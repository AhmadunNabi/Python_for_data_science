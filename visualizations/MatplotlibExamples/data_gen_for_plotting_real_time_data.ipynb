{
 "cells": [
  {
   "cell_type": "code",
   "execution_count": null,
   "metadata": {},
   "outputs": [],
   "source": [
    "# write a random data to a csv file\n",
    "import csv\n",
    "import random\n",
    "import time\n",
    "\n",
    "#Set some starting values\n",
    "x_value=0\n",
    "total_1=1000\n",
    "total_2=1000\n",
    "\n",
    "# Header of the csv file\n",
    "fieldnames=[\"x_value\",\"total_1\",\"total_2\"]\n",
    "\n",
    "#opening the csv file and writing these header\n",
    "with open('realdata.csv','w') as csv_file:\n",
    "    csv_writer=csv.DictWriter(csv_file, fieldnames=fieldnames)\n",
    "    csv_writer.writeheader()\n",
    "    \n",
    "while True:\n",
    "    with open('realdata.csv','a') as csv_file:\n",
    "        \n",
    "        csv_writer=csv.DictWriter(csv_file, fieldnames=fieldnames)\n",
    "        \n",
    "        info = {                       # info is all of the data for header\n",
    "            \"x_value\":x_value,         \n",
    "            \"total_1\":total_1,\n",
    "            \"total_2\":total_2\n",
    "        }\n",
    "        \n",
    "        \n",
    "        csv_writer.writerow(info)\n",
    "        print(x_value,total_1,total_2)\n",
    "        \n",
    "        #updating the values\n",
    "        x_value+=1\n",
    "        total_1 = total_1+random.randint(-6,8)\n",
    "        total_2 = total_2+random.randint(-5,6)\n",
    "    time.sleep(1)\n",
    "    \n",
    "    "
   ]
  },
  {
   "cell_type": "code",
   "execution_count": null,
   "metadata": {},
   "outputs": [],
   "source": []
  }
 ],
 "metadata": {
  "kernelspec": {
   "display_name": "Python 3",
   "language": "python",
   "name": "python3"
  },
  "language_info": {
   "codemirror_mode": {
    "name": "ipython",
    "version": 3
   },
   "file_extension": ".py",
   "mimetype": "text/x-python",
   "name": "python",
   "nbconvert_exporter": "python",
   "pygments_lexer": "ipython3",
   "version": "3.7.6"
  }
 },
 "nbformat": 4,
 "nbformat_minor": 4
}
